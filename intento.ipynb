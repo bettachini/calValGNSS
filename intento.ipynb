{
 "cells": [
  {
   "cell_type": "markdown",
   "metadata": {},
   "source": [
    "# Intento de usar PyVISA"
   ]
  },
  {
   "cell_type": "code",
   "execution_count": 1,
   "metadata": {},
   "outputs": [],
   "source": [
    "import pyvisa"
   ]
  },
  {
   "cell_type": "code",
   "execution_count": 2,
   "metadata": {},
   "outputs": [],
   "source": [
    "rm = pyvisa.ResourceManager('@py')"
   ]
  },
  {
   "cell_type": "code",
   "execution_count": 3,
   "metadata": {},
   "outputs": [
    {
     "data": {
      "text/plain": [
       "(tuple, 'USB0::5710::4004::TW00048101::0::INSTR')"
      ]
     },
     "execution_count": 3,
     "metadata": {},
     "output_type": "execute_result"
    }
   ],
   "source": [
    "# registro automático de recursos\n",
    "resourcesFound = rm.list_resources()\n",
    "type(resourcesFound), resourcesFound[0]"
   ]
  },
  {
   "cell_type": "code",
   "execution_count": 4,
   "metadata": {},
   "outputs": [
    {
     "name": "stdout",
     "output_type": "stream",
     "text": [
      "Berkeley Nucleonics Corp.,Model 1105,TW00048101,1.2.8-1H3-01-00-01\n",
      "\n"
     ]
    }
   ],
   "source": [
    "# apertura automática del recurso USB\n",
    "inst = rm.open_resource(resourcesFound[0])\n",
    "print(inst.query(\"*IDN?\"))"
   ]
  },
  {
   "cell_type": "code",
   "execution_count": null,
   "metadata": {},
   "outputs": [
    {
     "data": {
      "text/plain": [
       "6"
      ]
     },
     "execution_count": 8,
     "metadata": {},
     "output_type": "execute_result"
    }
   ],
   "source": [
    "inst.write('*RST')"
   ]
  },
  {
   "cell_type": "markdown",
   "metadata": {},
   "source": [
    "## Secuencia configuración y lectura simple\n",
    "Pruebo con una medida de frecuencia en el canal 1."
   ]
  },
  {
   "cell_type": "code",
   "execution_count": 6,
   "metadata": {},
   "outputs": [
    {
     "data": {
      "text/plain": [
       "23"
      ]
     },
     "execution_count": 6,
     "metadata": {},
     "output_type": "execute_result"
    }
   ],
   "source": [
    "# Lectura frecuencia canal 1\n",
    "inst.write('CONFIGURE:FREQUENCY 1')"
   ]
  },
  {
   "cell_type": "code",
   "execution_count": 8,
   "metadata": {},
   "outputs": [
    {
     "name": "stdout",
     "output_type": "stream",
     "text": [
      "+5.500E+004\n",
      "\n"
     ]
    }
   ],
   "source": [
    "dato = inst.query(':READ:SCALAR:VOLTAGE:FREQUENCY?')\n",
    "print(dato)"
   ]
  },
  {
   "cell_type": "markdown",
   "metadata": {},
   "source": [
    "Anduvo bien. Noté que al configurar redujo el número de decimales."
   ]
  },
  {
   "cell_type": "markdown",
   "metadata": {},
   "source": [
    "## Intervalo de tiempo entre canales"
   ]
  },
  {
   "cell_type": "code",
   "execution_count": 12,
   "metadata": {},
   "outputs": [
    {
     "name": "stdout",
     "output_type": "stream",
     "text": [
      "+9.91000000000000E+037\n",
      "\n"
     ]
    }
   ],
   "source": [
    "dato = inst.query(':MEASURE:TINT? 1,2')\n",
    "print(dato)"
   ]
  },
  {
   "cell_type": "code",
   "execution_count": 16,
   "metadata": {},
   "outputs": [
    {
     "data": {
      "text/plain": [
       "21"
      ]
     },
     "execution_count": 16,
     "metadata": {},
     "output_type": "execute_result"
    }
   ],
   "source": [
    "inst.write('CONFIGURE:TINTERVAL')"
   ]
  },
  {
   "cell_type": "code",
   "execution_count": 20,
   "metadata": {},
   "outputs": [
    {
     "name": "stdout",
     "output_type": "stream",
     "text": [
      "+5.55452E-005\n",
      "\n"
     ]
    }
   ],
   "source": [
    "dato = inst.query(':READ:SCALAR:TINTERVAL?')\n",
    "print(dato)"
   ]
  },
  {
   "cell_type": "code",
   "execution_count": 21,
   "metadata": {},
   "outputs": [
    {
     "name": "stdout",
     "output_type": "stream",
     "text": [
      "2024-02-19 15:15:36.169946\n"
     ]
    }
   ],
   "source": [
    "# get current date and time\n",
    "import datetime\n",
    "now = datetime.datetime.now()\n",
    "print(now)"
   ]
  },
  {
   "cell_type": "code",
   "execution_count": 23,
   "metadata": {},
   "outputs": [
    {
     "name": "stderr",
     "output_type": "stream",
     "text": [
      "/tmp/ipykernel_15213/2473344595.py:12: FutureWarning: The behavior of DataFrame concatenation with empty or all-NA entries is deprecated. In a future version, this will no longer exclude empty or all-NA columns when determining the result dtypes. To retain the old behavior, exclude the relevant entries before the concat operation.\n",
      "  df = pd.concat([df, pd.DataFrame({'time': [now], 'frequency': [dato], 'tinterval': [dato2]})], ignore_index=True)\n"
     ]
    },
    {
     "data": {
      "text/html": [
       "<div>\n",
       "<style scoped>\n",
       "    .dataframe tbody tr th:only-of-type {\n",
       "        vertical-align: middle;\n",
       "    }\n",
       "\n",
       "    .dataframe tbody tr th {\n",
       "        vertical-align: top;\n",
       "    }\n",
       "\n",
       "    .dataframe thead th {\n",
       "        text-align: right;\n",
       "    }\n",
       "</style>\n",
       "<table border=\"1\" class=\"dataframe\">\n",
       "  <thead>\n",
       "    <tr style=\"text-align: right;\">\n",
       "      <th></th>\n",
       "      <th>time</th>\n",
       "      <th>frequency</th>\n",
       "      <th>tinterval</th>\n",
       "    </tr>\n",
       "  </thead>\n",
       "  <tbody>\n",
       "    <tr>\n",
       "      <th>0</th>\n",
       "      <td>2024-02-19 15:18:08.662832</td>\n",
       "      <td>+9.91000000000000E+037\\n</td>\n",
       "      <td>+8.333245E-004\\n</td>\n",
       "    </tr>\n",
       "    <tr>\n",
       "      <th>1</th>\n",
       "      <td>2024-02-19 15:19:10.874597</td>\n",
       "      <td>+9.91000000000000E+037\\n</td>\n",
       "      <td>+8.333248E-004\\n</td>\n",
       "    </tr>\n",
       "    <tr>\n",
       "      <th>2</th>\n",
       "      <td>2024-02-19 15:20:13.031225</td>\n",
       "      <td>+9.91000000000000E+037\\n</td>\n",
       "      <td>+8.333248E-004\\n</td>\n",
       "    </tr>\n",
       "    <tr>\n",
       "      <th>3</th>\n",
       "      <td>2024-02-19 15:21:15.241679</td>\n",
       "      <td>+9.91000000000000E+037\\n</td>\n",
       "      <td>+8.333246E-004\\n</td>\n",
       "    </tr>\n",
       "    <tr>\n",
       "      <th>4</th>\n",
       "      <td>2024-02-19 15:22:17.428726</td>\n",
       "      <td>+9.91000000000000E+037\\n</td>\n",
       "      <td>+8.333248E-004\\n</td>\n",
       "    </tr>\n",
       "  </tbody>\n",
       "</table>\n",
       "</div>"
      ],
      "text/plain": [
       "                        time                 frequency         tinterval\n",
       "0 2024-02-19 15:18:08.662832  +9.91000000000000E+037\\n  +8.333245E-004\\n\n",
       "1 2024-02-19 15:19:10.874597  +9.91000000000000E+037\\n  +8.333248E-004\\n\n",
       "2 2024-02-19 15:20:13.031225  +9.91000000000000E+037\\n  +8.333248E-004\\n\n",
       "3 2024-02-19 15:21:15.241679  +9.91000000000000E+037\\n  +8.333246E-004\\n\n",
       "4 2024-02-19 15:22:17.428726  +9.91000000000000E+037\\n  +8.333248E-004\\n"
      ]
     },
     "execution_count": 23,
     "metadata": {},
     "output_type": "execute_result"
    }
   ],
   "source": [
    "# take a measuremnt every minute and store into a dataframe\n",
    "import time\n",
    "import pandas as pd\n",
    "\n",
    "df = pd.DataFrame(columns=['time', 'frequency', 'tinterval'])\n",
    "\n",
    "for i in range(5):\n",
    "    dato = inst.query(':READ:SCALAR:VOLTAGE:FREQUENCY?')\n",
    "    dato2 = inst.query(':READ:SCALAR:TINTERVAL?')\n",
    "    now = datetime.datetime.now()\n",
    "    # append no longer used, use concat instead\n",
    "    df = pd.concat([df, pd.DataFrame({'time': [now], 'frequency': [dato], 'tinterval': [dato2]})], ignore_index=True)\n",
    "    # df = df.append({'time': now, 'frequency': dato, 'tinterval': dato2}, ignore_index=True)\n",
    "    time.sleep(60)\n",
    "\n",
    "df  \n"
   ]
  },
  {
   "cell_type": "code",
   "execution_count": 24,
   "metadata": {},
   "outputs": [],
   "source": [
    "# save to file in csv format the df\n",
    "df.to_csv('./data.csv')"
   ]
  },
  {
   "cell_type": "code",
   "execution_count": 25,
   "metadata": {},
   "outputs": [
    {
     "data": {
      "text/plain": [
       "1e-10"
      ]
     },
     "execution_count": 25,
     "metadata": {},
     "output_type": "execute_result"
    }
   ],
   "source": [
    "1/10E9"
   ]
  }
 ],
 "metadata": {
  "kernelspec": {
   "display_name": "jupyter",
   "language": "python",
   "name": "python3"
  },
  "language_info": {
   "codemirror_mode": {
    "name": "ipython",
    "version": 3
   },
   "file_extension": ".py",
   "mimetype": "text/x-python",
   "name": "python",
   "nbconvert_exporter": "python",
   "pygments_lexer": "ipython3",
   "version": "3.11.2"
  },
  "orig_nbformat": 4
 },
 "nbformat": 4,
 "nbformat_minor": 2
}
